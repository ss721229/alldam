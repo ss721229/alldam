{
  "cells": [
    {
      "cell_type": "code",
      "execution_count": null,
      "metadata": {
        "id": "HSkvzHhrPuEj"
      },
      "outputs": [],
      "source": [
        "import numpy as np\n",
        "import pandas as pd\n",
        "import matplotlib.pyplot as plt\n",
        "import folium\n",
        "import seaborn as sns\n",
        "import json"
      ]
    },
    {
      "cell_type": "code",
      "execution_count": null,
      "metadata": {
        "id": "S7YzIvNdY5ga"
      },
      "outputs": [],
      "source": [
        "!sudo apt-get install -y fonts-nanum\n",
        "!sudo fc-cache -fv\n",
        "!rm ~/.cache/matplotlib -rf"
      ]
    },
    {
      "cell_type": "markdown",
      "metadata": {
        "id": "CNNiQNOsBtIF"
      },
      "source": [
        "## 2019~2021년 화재건수 데이터 전처리\n",
        "- fire_2019.csv, fire_2020.csv, fire_2021.csv 활용\n",
        "- '시도'에서 충청남도만 추출\n",
        "- '화재발생년월일'을 월만 표시하도록 변경 -> 'O월'\n",
        "- 이후 차트에 표시하기 위해 길이가 긴 '시군구'는 줄바꿈 추가 -> 천안시서북구 = 천안시\\n서북구, 천안시동남구 = 천안시\\n동남구\n",
        "- 인명/재산 피해가 나타나지 않은 화재 사고는 제거\n"
      ]
    },
    {
      "cell_type": "code",
      "execution_count": null,
      "metadata": {
        "id": "n7_2cXmuGo6R"
      },
      "outputs": [],
      "source": [
        "# 전국 2019~2021년 화재 사고 데이터셋\n",
        "fire_2019 = pd.read_csv(\"fire_2019.csv\", encoding='CP949')\n",
        "fire_2020 = pd.read_csv(\"fire_2020.csv\", encoding='CP949')\n",
        "fire_2021 = pd.read_csv(\"fire_2021.csv\", encoding='CP949')\n",
        "\n",
        "# 충청남도 지역만 데이터 사용\n",
        "fire_chungnam_2019 = fire_2019[fire_2019['시도'] == '충청남도']\n",
        "fire_chungnam_2020 = fire_2020[fire_2020['시도'] == '충청남도']\n",
        "fire_chungnam_2021 = fire_2021[fire_2021['시도'] == '충청남도']\n",
        "\n",
        "# 월별로 나타냄\n",
        "fire_chungnam_2019['화재발생년월일'] = fire_chungnam_2019['화재발생년월일'].apply(lambda x: x[5:7]+'월')\n",
        "fire_chungnam_2020['화재발생년월일'] = fire_chungnam_2020['화재발생년월일'].apply(lambda x: x[5:7]+'월')\n",
        "fire_chungnam_2021['화재발생년월일'] = fire_chungnam_2021['화재발생년월일'].apply(lambda x: x[5:7]+'월')\n",
        "\n",
        "# 길이가 긴 지역에 줄바꿈 추가\n",
        "fire_chungnam_2019['시군구'] = fire_chungnam_2019['시군구'].apply(lambda x: x[:3] + '\\n' + x[3:] if len(x) > 3 else x)\n",
        "fire_chungnam_2020['시군구'] = fire_chungnam_2020['시군구'].apply(lambda x: x[:3] + '\\n' + x[3:] if len(x) > 3 else x)\n",
        "fire_chungnam_2021['시군구'] = fire_chungnam_2021['시군구'].apply(lambda x: x[:3] + '\\n' + x[3:] if len(x) > 3 else x)\n",
        "\n",
        "# 인명피해, 재산피해가 나타나지 않은 화재 사고는 제거\n",
        "fire_chungnam_2019.dropna(inplace = True)\n",
        "fire_chungnam_2020.dropna(inplace = True)\n",
        "fire_chungnam_2021.dropna(inplace = True)"
      ]
    },
    {
      "cell_type": "markdown",
      "metadata": {
        "id": "hTrEU_9NuY0t"
      },
      "source": [
        "## 소방서 위치 표시 (총 16개)\n",
        "- fire_station.csv 활용\n",
        "- 소방학교를 제외한 충청남도 소방서와 119안전센터를 지도 위에 표시\n",
        "- json 파일을 활용하여 충청남도 소방서 관할 구역 표시"
      ]
    },
    {
      "cell_type": "code",
      "execution_count": null,
      "metadata": {
        "id": "Qa7XHEzqK4QX"
      },
      "outputs": [],
      "source": [
        "fire_station = pd.read_csv(\"fire_station.csv\", encoding=\"CP949\")\n",
        "fire_save_center = pd.read_csv('chungnam_save_center.csv', encoding=\"CP949\")\n",
        "\n",
        "# 소방학교는 제외\n",
        "fire_station.drop(0, axis=0, inplace=True)\n",
        "\n",
        "latitude = fire_station['위도']\n",
        "hardness = fire_station['경도']\n",
        "name = fire_station['소방서관서명']\n",
        "\n",
        "myMap = folium.Map(location=[latitude.mean(), hardness.mean()], zoom_start=9)\n",
        "\n",
        "def loc_chungnam(location, color):\n",
        "    with open(location, mode='rt', encoding='utf-8') as f:\n",
        "        geo = json.loads(f.read())\n",
        "        f.close()\n",
        "\n",
        "    folium.Choropleth(\n",
        "        geo_data=geo,\n",
        "        fill_opacity=1,\n",
        "        line_opacity=0.1,\n",
        "        fill_color=color,\n",
        "        weight=0.3,\n",
        "        name='chungnam_municipalities'\n",
        "    ).add_to(myMap)\n",
        "\n",
        "loc = ['./location/asan.json', './location/boryeong.json', './location/buyeo.json', './location/chungyang.json', './location/dangjin.json', './location/dongnamgu.json',\n",
        "       './location/gongjusi.json', './location/geumsan.json', './location/hongsung.json', './location/gyeryong.json', './location/nonsan.json', './location/seobukgu.json',\n",
        "       './location/seosan.json', './location/taean.json', './location/yaesan.json', './location/seocheon.json']\n",
        "color = ['#D2B48C', '#F5DEB3', '#FFC0CB', '#1ABC9C', '#F2C80F', '#9B59B6', '#808080', '#27AE60',\n",
        "        '#FAD02E', '#3498DB', '#BDB76B', '#2980B9', '#8E44AD', '#2ECC71', '#E67E22', '#2C3E50']\n",
        "\n",
        "for i, j in zip(loc, color):\n",
        "    loc_chungnam(i, j)\n",
        "\n",
        "# 안전센터 지도에 표시\n",
        "latitude = fire_save_center['위도']\n",
        "hardness = fire_save_center['경도']\n",
        "name = fire_save_center['119안전센터명']\n",
        "\n",
        "for (l, h, n) in zip(latitude, hardness, name):\n",
        "   folium.Circle([l, h], tooltip = n, color='aqua', fill_color='aqua', fill_opacity=1).add_to(myMap)\n",
        "\n",
        "\n",
        "# 소방서 지도에 표시\n",
        "latitude = fire_station['위도']\n",
        "hardness = fire_station['경도']\n",
        "name = fire_station['소방서관서명']\n",
        "\n",
        "for (l, h, n) in zip(latitude, hardness, name):\n",
        "   folium.Circle([l, h], tooltip = n, color='red', fill_color='red', fill_opacity=1, radius=100).add_to(myMap)\n",
        "\n",
        "myMap"
      ]
    },
    {
      "cell_type": "markdown",
      "source": [
        "## 사용할 차트\n",
        "---\n",
        "1. 지역별 화재 발생 수(피해액 350,000원 이상) - 2019 ~ 2021년(barh)\n",
        "2. 월별 화재피해자산(동+부동) - 비율, 금액(plot, bar)\n",
        "3. 화재 발생 장소(소 or 중 or 대) - 2019 ~ 2021년(heatmap)"
      ],
      "metadata": {
        "id": "peH1W87bQKym"
      }
    },
    {
      "cell_type": "markdown",
      "source": [
        "### 지역별 화재 발생 수(피해액 350,000원 이상)"
      ],
      "metadata": {
        "id": "omTQcwRSRke_"
      }
    },
    {
      "cell_type": "code",
      "source": [
        "fire_gen_region_2019 = fire_chungnam_2019[fire_chungnam_2019['재산피해소계'] > 350]\n",
        "fire_gen_region_2020 = fire_chungnam_2020[fire_chungnam_2020['재산피해소계'] > 350]\n",
        "fire_gen_region_2021 = fire_chungnam_2021[fire_chungnam_2021['재산피해소계'] > 350]\n",
        "\n",
        "fire_gen_region_2019 = fire_gen_region_2019['시군구'].value_counts(ascending=True)\n",
        "fire_gen_region_2020 = fire_gen_region_2020['시군구'].value_counts(ascending=True)\n",
        "fire_gen_region_2021 = fire_gen_region_2021['시군구'].value_counts(ascending=True)\n",
        "\n",
        "fire_gen_region_2019 = fire_gen_region_2019.rename(index = {'천안시\\n동남구': '천안시동남구', '천안시\\n서북구': '천안시서북구'})\n",
        "fire_gen_region_2020 = fire_gen_region_2020.rename(index = {'천안시\\n동남구': '천안시동남구', '천안시\\n서북구': '천안시서북구'})\n",
        "fire_gen_region_2021 = fire_gen_region_2021.rename(index = {'천안시\\n동남구': '천안시동남구', '천안시\\n서북구': '천안시서북구'})\n",
        "\n",
        "def show_text(ind, val, sub):\n",
        "    for i, v in enumerate(ind):\n",
        "        ax[sub].text(val[i], v, val[i],\n",
        "                fontsize = 9, \n",
        "                color='deepskyblue',\n",
        "                horizontalalignment='left',\n",
        "                verticalalignment='center')\n",
        "\n",
        "index = np.arange(16)\n",
        "bar_width = 0.25\n",
        "\n",
        "fig, ax = plt.subplots(1, 3, constrained_layout=True, figsize=(15, 4))\n",
        "plt.style.use('seaborn-v0_8-pastel')\n",
        "ax[0].spines[['top', 'right']].set_visible(False)\n",
        "ax[1].spines[['top', 'right']].set_visible(False)\n",
        "ax[2].spines[['top', 'right']].set_visible(False)\n",
        "plt.rc('font', family='NanumBarunGothic')\n",
        "\n",
        "ax[0].barh(fire_gen_region_2019.index, fire_gen_region_2019)\n",
        "ax[0].set_title('2019년 화재발생 수')\n",
        "ax[0].set_xlabel('횟수(단위:번)')\n",
        "ax[0].set_xticks(range(0, 181, 30))\n",
        "ax[1].barh(fire_gen_region_2020.index, fire_gen_region_2020)\n",
        "ax[1].set_title('2020년 화재발생 수')\n",
        "ax[1].set_xlabel('횟수(단위:번)')\n",
        "ax[1].set_xticks(range(0, 181, 30))\n",
        "ax[2].barh(fire_gen_region_2021.index, fire_gen_region_2021)\n",
        "ax[2].set_title('2021년 화재발생 수')\n",
        "ax[2].set_xlabel('횟수(단위:번)')\n",
        "ax[2].set_xticks(range(0, 181, 30))\n",
        "show_text(fire_gen_region_2019.index, fire_gen_region_2019, 0)\n",
        "show_text(fire_gen_region_2020.index, fire_gen_region_2020, 1)\n",
        "show_text(fire_gen_region_2021.index, fire_gen_region_2021, 2)\n",
        "\n",
        "plt.show()"
      ],
      "metadata": {
        "id": "tknkTnwTQJaw"
      },
      "execution_count": null,
      "outputs": []
    },
    {
      "cell_type": "markdown",
      "source": [
        "### 월별 화재피해자산(동+부동) - 비율, 금액"
      ],
      "metadata": {
        "id": "GXFzU79VTaC3"
      }
    },
    {
      "cell_type": "markdown",
      "source": [
        "#### 월별 화재피해자산(동+부동) - 비율"
      ],
      "metadata": {
        "id": "eMVgMvtsRplS"
      }
    },
    {
      "cell_type": "code",
      "source": [
        "fire_month_property_rate_2019 = fire_chungnam_2019.groupby('화재발생년월일')['재산피해소계'].sum()\n",
        "fire_month_property_rate_2020 = fire_chungnam_2020.groupby('화재발생년월일')['재산피해소계'].sum()\n",
        "fire_month_property_rate_2021 = fire_chungnam_2021.groupby('화재발생년월일')['재산피해소계'].sum()\n",
        "\n",
        "fire_month_property_rate_2019 = fire_month_property_rate_2019.div(fire_month_property_rate_2019.sum(), axis=0) * 100\n",
        "fire_month_property_rate_2020 = fire_month_property_rate_2020.div(fire_month_property_rate_2020.sum(), axis=0) * 100\n",
        "fire_month_property_rate_2021 = fire_month_property_rate_2021.div(fire_month_property_rate_2021.sum(), axis=0) * 100\n",
        "print(fire_month_property_rate_2019.sort_values(ascending=False)[:3], fire_month_property_rate_2020.sort_values(ascending=False)[:3], fire_month_property_rate_2021.sort_values(ascending=False)[:3])\n",
        "plt.figure(figsize=(10, 5))\n",
        "plt.style.use('seaborn-v0_8-pastel')\n",
        "plt.gca().spines[['right', 'top']].set_visible(False)\n",
        "plt.rc('font', family='NanumBarunGothic')\n",
        "\n",
        "x = fire_chungnam_2019['화재발생년월일']\n",
        "plt.plot(fire_month_property_rate_2019, marker='o', markersize=3, label = '2019년')\n",
        "plt.plot(fire_month_property_rate_2020, marker='o', markersize=3, label = '2020년')\n",
        "plt.plot(fire_month_property_rate_2021, marker='o', markersize=3, label = '2021년')\n",
        "plt.xlabel('월')\n",
        "plt.ylabel('재산피해(단위:%)', size=10)\n",
        "plt.title('2019 ~ 2021년 월별 충청남도 화재 재산 피해 비율')\n",
        "plt.yticks(np.arange(0, 51, 10))\n",
        "plt.legend()\n",
        "\n",
        "plt.show()"
      ],
      "metadata": {
        "colab": {
          "base_uri": "https://localhost:8080/",
          "height": 725
        },
        "id": "IKyyEGYYQVYm",
        "outputId": "13b025bf-a4e3-4d86-bba5-967a97c0d437"
      },
      "execution_count": null,
      "outputs": [
        {
          "output_type": "stream",
          "name": "stdout",
          "text": [
            "화재발생년월일\n",
            "03월    13.269477\n",
            "01월    12.979343\n",
            "02월     9.617925\n",
            "Name: 재산피해소계, dtype: float64 화재발생년월일\n",
            "03월    26.638749\n",
            "08월    12.062234\n",
            "10월     9.838335\n",
            "Name: 재산피해소계, dtype: float64 화재발생년월일\n",
            "03월    43.079909\n",
            "10월    11.058038\n",
            "08월     6.700987\n",
            "Name: 재산피해소계, dtype: float64\n"
          ]
        },
        {
          "output_type": "display_data",
          "data": {
            "text/plain": [
              "<Figure size 1000x500 with 1 Axes>"
            ],
            "image/png": "[encoded data removed]"
          },
          "metadata": {}
        }
      ]
    },
    {
      "cell_type": "markdown",
      "source": [
        "#### 월별 화재피해자산(동+부동) - 금액"
      ],
      "metadata": {
        "id": "JRwg9bH_Rv9L"
      }
    },
    {
      "cell_type": "code",
      "source": [
        "rate = 100000\n",
        "fire_month_property_2019 = fire_chungnam_2019.groupby('화재발생년월일')['재산피해소계'].sum() / rate\n",
        "fire_month_property_2020 = fire_chungnam_2020.groupby('화재발생년월일')['재산피해소계'].sum() / rate\n",
        "fire_month_property_2021 = fire_chungnam_2021.groupby('화재발생년월일')['재산피해소계'].sum() / rate\n",
        "\n",
        "index = np.arange(12)\n",
        "bar_width = 0.25\n",
        "\n",
        "plt.rc('font', family='NanumBarunGothic')\n",
        "plt.figure(figsize=(10, 5))\n",
        "plt.style.use('seaborn-v0_8-pastel')\n",
        "plt.gca().spines[['top', 'right']].set_visible(False)\n",
        "\n",
        "x = fire_chungnam_2019['화재발생년월일']\n",
        "plt.bar(index - bar_width, fire_month_property_2019, bar_width, alpha=0.7, label='2019년')\n",
        "plt.bar(index, fire_month_property_2020, bar_width, alpha=0.7, label='2020년')\n",
        "plt.bar(index + bar_width, fire_month_property_2021, bar_width, alpha=0.7, label='2021년')\n",
        "plt.plot(fire_month_property_2019.index, fire_month_property_2019, 'o--', markersize=3, alpha=0, color='grey')\n",
        "plt.yticks(np.arange(0, 181, 20))\n",
        "plt.xlabel('월')\n",
        "plt.ylabel('재산피해(단위:억)', size=10)\n",
        "plt.title('2019 ~ 2021년 월별 충청남도 화재 재산 피해 금액')\n",
        "plt.legend()"
      ],
      "metadata": {
        "id": "jQKeGq89QbKI"
      },
      "execution_count": null,
      "outputs": []
    },
    {
      "cell_type": "markdown",
      "source": [
        "### 화재 발생 장소(장소대분류) - 2019 ~ 2021년"
      ],
      "metadata": {
        "id": "swT3GGjyTll1"
      }
    },
    {
      "cell_type": "code",
      "source": [
        "fire_gen_location_2019 = fire_chungnam_2019[fire_chungnam_2019['재산피해소계'] > 350]\n",
        "fire_gen_location_2020 = fire_chungnam_2020[fire_chungnam_2020['재산피해소계'] > 350]\n",
        "fire_gen_location_2021 = fire_chungnam_2021[fire_chungnam_2021['재산피해소계'] > 350]\n",
        "\n",
        "def rm_new_line(data):\n",
        "    data.loc[data['시군구'] == '천안시\\n동남구', '시군구'] = '천안시동남구'\n",
        "    data.loc[data['시군구'] == '천안시\\n서북구', '시군구'] = '천안시서북구'\n",
        "\n",
        "rm_new_line(fire_gen_location_2019)\n",
        "rm_new_line(fire_gen_location_2020)\n",
        "rm_new_line(fire_gen_location_2021)\n",
        "\n",
        "fig, ax = plt.subplots(1, 3, constrained_layout=True, figsize=(21, 7))\n",
        "ax[0].set_title('2019년 충청남도 화재 발생 장소')\n",
        "ax[1].set_title('2020년 충청남도 화재 발생 장소')\n",
        "ax[2].set_title('2021년 충청남도 화재 발생 장소')\n",
        "plt.style.use('seaborn-v0_8-pastel')\n",
        "plt.rc('font', family='NanumBarunGothic')\n",
        "\n",
        "def show_heatmap(data, axis):\n",
        "    index = data['시군구']\n",
        "    data = data.groupby(['시군구', '장소대분류']).size().reset_index(name='count')\n",
        "    data_pivoted = data.pivot(index='시군구', columns='장소대분류', values='count')\n",
        "    sns.heatmap(data_pivoted, annot=True, cmap='YlGnBu', ax=ax[axis], vmin=0, vmax=60)\n",
        "\n",
        "show_heatmap(fire_gen_location_2019, 0)\n",
        "show_heatmap(fire_gen_location_2020, 1)\n",
        "show_heatmap(fire_gen_location_2021, 2)\n",
        "ax[0].set_xlabel('장소')\n",
        "ax[1].set_xlabel('장소')\n",
        "ax[2].set_xlabel('장소')"
      ],
      "metadata": {
        "id": "ItXgJ1e7TkPC"
      },
      "execution_count": null,
      "outputs": []
    }
  ],
  "metadata": {
    "colab": {
      "provenance": []
    },
    "kernelspec": {
      "display_name": "Python 3",
      "name": "python3"
    },
    "language_info": {
      "name": "python"
    }
  },
  "nbformat": 4,
  "nbformat_minor": 0
}